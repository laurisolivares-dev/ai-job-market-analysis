{
  "nbformat": 4,
  "nbformat_minor": 0,
  "metadata": {
    "colab": {
      "provenance": [],
      "authorship_tag": "ABX9TyOH6JtzRT8AvdgZXEBpjFzm",
      "include_colab_link": true
    },
    "kernelspec": {
      "name": "python3",
      "display_name": "Python 3"
    },
    "language_info": {
      "name": "python"
    }
  },
  "cells": [
    {
      "cell_type": "markdown",
      "metadata": {
        "id": "view-in-github",
        "colab_type": "text"
      },
      "source": [
        "<a href=\"https://colab.research.google.com/github/laurisolivares-dev/ai-job-market-analysis/blob/main/notebooks/AI_Job_Market_Salary_Analysis_2025.ipynb\" target=\"_parent\"><img src=\"https://colab.research.google.com/assets/colab-badge.svg\" alt=\"Open In Colab\"/></a>"
      ]
    },
    {
      "cell_type": "markdown",
      "source": [
        "###AI Job Market & Salary Analysis 2025\n",
        "\n",
        "This project explores the Artificial Intelligence job market in 2025, focusing on salary trends, skills demand, experience levels, and geographic hiring patterns. It is an Exploratory Data Analysis (EDA) project — combining data cleaning, transformation, and visual storytelling to derive actionable insights from real-world job postings.\n",
        "\n",
        "It is my second data project. While the first introduced me to foundational EDA, this one deepens my skills in structuring an end-to-end analysis using Pandas, visual tools, and public datasets. My goal is to keep growing toward a future role as a Data Engineer.\n",
        "\n",
        "\n",
        "###Objectives\n",
        "\n",
        "**Dataset**: AI job postings from Kaggle (2025)\n",
        "\n",
        "**Time coverage**: Up to April 2025 — providing a fresh and current view of the job market\n",
        "\n",
        "**Geographic coverage**: Global — with listings from numerous countries\n",
        "\n",
        "This scope helps us answer questions such as:\n",
        "\n",
        "* What are the most requested AI skills?\n",
        "* What roles are companies hiring for by experience level?\n",
        "* How do salaries vary by country or seniority?\n",
        "\n",
        "\n",
        "###Project Scope\n",
        "\n",
        "**Dataset**: AI job postings from Kaggle (2025)\n",
        "\n",
        "**Time coverage**: Up to April 2025 — providing a fresh and current view of the job market\n",
        "\n",
        "**Geographic coverage**: Global — with listings from numerous countries\n",
        "\n",
        "This scope helps us answer questions such as:\n",
        "\n",
        "* What are the most requested AI skills?\n",
        "* What roles are companies hiring for by experience level?\n",
        "* How do salaries vary by country or seniority?\n",
        "\n",
        "This scope allows us to identify what employers are currently seeking in AI professionals and how trends vary over time, region, and role.\n",
        "\n",
        "\n",
        "###Why This Matters\n",
        "In today’s data-drive\n",
        "n world, the ability to work with datasets like this — cleaning, transforming, analyzing, and visualizing — is essential for **Data Engineers** and **Data Analysts**.  \n",
        "This project showcases not just technical skills, but also the power of combining multiple tools to extract meaningful insights from raw data.\n",
        "\n",
        "**Dataset Source**: [Kaggle - AI Job Market & Salary Analysis 2025](https://www.kaggle.com/datasets/)"
      ],
      "metadata": {
        "id": "n-mvkZciXBNe"
      }
    },
    {
      "cell_type": "code",
      "source": [
        "# ==================================== #\n",
        "# AI Job Market & Salary Analysis 2025 #\n",
        "# ==================================== #\n",
        "\n",
        "#Import libraries\n",
        "import pandas as pd\n",
        "import numpy as np\n",
        "import matplotlib.pyplot as plt\n",
        "from collections import Counter\n",
        "import os\n",
        "import seaborn as sns\n",
        "from IPython.display import display, HTML\n",
        "from collections import Counter\n",
        "from pathlib import Path\n",
        "\n",
        "\n",
        "#URL of my CSV on GitHub\n",
        "url = \"https://raw.githubusercontent.com/laurisolivares-dev/ai-job-market-analysis/main/files/ai_job_dataset.csv\"\n",
        "\n",
        "#Load of dataset\n",
        "df = pd.read_csv(url)\n",
        "\n",
        "#Show columns and rows\n",
        "print(f\"Shape:{df.shape}\")\n",
        "df.head()\n",
        "\n",
        "#Converting date columns\n",
        "df['posting_date'] = pd.to_datetime(df['posting_date'], errors='coerce')\n",
        "df['application_deadline'] = pd.to_datetime(df['application_deadline'], errors='coerce')\n",
        "\n",
        "df.info()\n"
      ],
      "metadata": {
        "colab": {
          "base_uri": "https://localhost:8080/"
        },
        "collapsed": true,
        "id": "D6aphpihb8A7",
        "outputId": "0ba74797-ef04-4bcc-9fe0-00d2ec06a302"
      },
      "execution_count": 3,
      "outputs": [
        {
          "output_type": "stream",
          "name": "stdout",
          "text": [
            "Shape:(15000, 20)\n",
            "<class 'pandas.core.frame.DataFrame'>\n",
            "RangeIndex: 15000 entries, 0 to 14999\n",
            "Data columns (total 20 columns):\n",
            " #   Column                  Non-Null Count  Dtype         \n",
            "---  ------                  --------------  -----         \n",
            " 0   job_id                  15000 non-null  object        \n",
            " 1   job_title               15000 non-null  object        \n",
            " 2   salary_usd              15000 non-null  int64         \n",
            " 3   salary_currency         15000 non-null  object        \n",
            " 4   salary_local            15000 non-null  int64         \n",
            " 5   experience_level        15000 non-null  object        \n",
            " 6   employment_type         15000 non-null  object        \n",
            " 7   company_location        15000 non-null  object        \n",
            " 8   company_size            15000 non-null  object        \n",
            " 9   employee_residence      15000 non-null  object        \n",
            " 10  remote_ratio            15000 non-null  int64         \n",
            " 11  required_skills         15000 non-null  object        \n",
            " 12  education_required      15000 non-null  object        \n",
            " 13  years_experience        15000 non-null  int64         \n",
            " 14  industry                15000 non-null  object        \n",
            " 15  posting_date            15000 non-null  datetime64[ns]\n",
            " 16  application_deadline    15000 non-null  datetime64[ns]\n",
            " 17  job_description_length  15000 non-null  int64         \n",
            " 18  benefits_score          15000 non-null  float64       \n",
            " 19  company_name            15000 non-null  object        \n",
            "dtypes: datetime64[ns](2), float64(1), int64(5), object(12)\n",
            "memory usage: 2.3+ MB\n"
          ]
        }
      ]
    },
    {
      "cell_type": "code",
      "source": [
        "#Count null values\n",
        "missing_values = df.isnull().sum()\n",
        "total_missing = missing_values.sum()\n",
        "display(HTML(\"<h4>🔍 Check for Missing Values</h4>\"))\n",
        "\n",
        "#Show Resume\n",
        "if total_missing > 0:\n",
        "    display(HTML(f\"<p style='color:red'><b>⚠️ Total missing values in dataset:</b> {total_missing}</p>\"))\n",
        "    #Show table with columns that have null values\n",
        "    display(missing_values[missing_values > 0].to_frame('Missing Count').style.set_caption(\"Columns with Missing Values\"))\n",
        "else:\n",
        "    display(HTML(\"<p style='color:green'><b>✅ No missing values found.</b></p>\"))"
      ],
      "metadata": {
        "colab": {
          "base_uri": "https://localhost:8080/",
          "height": 82
        },
        "id": "IcaHYvzKjmQP",
        "outputId": "3cbc2476-aeb6-48bf-f4d8-66278be6364f",
        "collapsed": true
      },
      "execution_count": 4,
      "outputs": [
        {
          "output_type": "display_data",
          "data": {
            "text/plain": [
              "<IPython.core.display.HTML object>"
            ],
            "text/html": [
              "<h4>🔍 Check for Missing Values</h4>"
            ]
          },
          "metadata": {}
        },
        {
          "output_type": "display_data",
          "data": {
            "text/plain": [
              "<IPython.core.display.HTML object>"
            ],
            "text/html": [
              "<p style='color:green'><b>✅ No missing values found.</b></p>"
            ]
          },
          "metadata": {}
        }
      ]
    },
    {
      "cell_type": "code",
      "source": [
        "#Check duplicated\n",
        "num_duplicates = df.duplicated().sum()\n",
        "\n",
        "#Show with HTML\n",
        "display(HTML(f\"<h4>🧹 Check for Duplicates</h4><p><b>Total duplicated rows:</b> {num_duplicates}</p>\"))\n",
        "if num_duplicates > 0:\n",
        "    display(HTML(f\"<p style='color:red'><b>⚠️ Warning:</b> There are {num_duplicates} duplicated rows in the dataset.</p>\"))\n",
        "else:\n",
        "    display(HTML(\"<p style='color:green'><b>✅ No duplicated rows found.</b></p>\"))\n"
      ],
      "metadata": {
        "colab": {
          "base_uri": "https://localhost:8080/",
          "height": 106
        },
        "id": "ApAMAet8-mko",
        "outputId": "95d24e57-dbce-412f-8acd-d8b643820a37"
      },
      "execution_count": 5,
      "outputs": [
        {
          "output_type": "display_data",
          "data": {
            "text/plain": [
              "<IPython.core.display.HTML object>"
            ],
            "text/html": [
              "<h4>🧹 Check for Duplicates</h4><p><b>Total duplicated rows:</b> 0</p>"
            ]
          },
          "metadata": {}
        },
        {
          "output_type": "display_data",
          "data": {
            "text/plain": [
              "<IPython.core.display.HTML object>"
            ],
            "text/html": [
              "<p style='color:green'><b>✅ No duplicated rows found.</b></p>"
            ]
          },
          "metadata": {}
        }
      ]
    },
    {
      "cell_type": "markdown",
      "source": [
        "###Data Cleaning & Transformation\n",
        "\n",
        "In this step, I will:\n",
        "\n",
        "- Check and clean missing and duplicate values.\n",
        "- Standardize categorical columns for better readability:\n",
        "  - `experience_level`\n",
        "  - `employment_type`\n",
        "  - `company_size`\n",
        "- Prepare the `required_skills` column for skill-based analysis.\n",
        "\n",
        "This transformation process is essential to ensure the dataset is clean, structured, and ready for accurate and meaningful analysis."
      ],
      "metadata": {
        "id": "EMXaOvQYkOhL"
      }
    },
    {
      "cell_type": "code",
      "source": [
        "#Standardize experience_level\n",
        "#Show with HTML\n",
        "display(HTML(\"<h4>📌 Standardizen: <code>experience_level</code></h4>\"))\n",
        "df['experience_level'] = df['experience_level'].replace({\n",
        "    'EN': 'Entry-level',\n",
        "    'MI': 'Mid-level',\n",
        "    'SE': 'Senior-level',\n",
        "    'EX': 'Executive'\n",
        "})\n",
        "\n",
        "df['experience_level'].value_counts()"
      ],
      "metadata": {
        "colab": {
          "base_uri": "https://localhost:8080/",
          "height": 281
        },
        "collapsed": true,
        "id": "P769CdyKlU2Z",
        "outputId": "6fb4eb31-dc01-4343-b726-6f2d556e2f91"
      },
      "execution_count": 6,
      "outputs": [
        {
          "output_type": "display_data",
          "data": {
            "text/plain": [
              "<IPython.core.display.HTML object>"
            ],
            "text/html": [
              "<h4>📌 Standardizen: <code>experience_level</code></h4>"
            ]
          },
          "metadata": {}
        },
        {
          "output_type": "execute_result",
          "data": {
            "text/plain": [
              "experience_level\n",
              "Executive       3843\n",
              "Mid-level       3764\n",
              "Senior-level    3741\n",
              "Entry-level     3652\n",
              "Name: count, dtype: int64"
            ],
            "text/html": [
              "<div>\n",
              "<style scoped>\n",
              "    .dataframe tbody tr th:only-of-type {\n",
              "        vertical-align: middle;\n",
              "    }\n",
              "\n",
              "    .dataframe tbody tr th {\n",
              "        vertical-align: top;\n",
              "    }\n",
              "\n",
              "    .dataframe thead th {\n",
              "        text-align: right;\n",
              "    }\n",
              "</style>\n",
              "<table border=\"1\" class=\"dataframe\">\n",
              "  <thead>\n",
              "    <tr style=\"text-align: right;\">\n",
              "      <th></th>\n",
              "      <th>count</th>\n",
              "    </tr>\n",
              "    <tr>\n",
              "      <th>experience_level</th>\n",
              "      <th></th>\n",
              "    </tr>\n",
              "  </thead>\n",
              "  <tbody>\n",
              "    <tr>\n",
              "      <th>Executive</th>\n",
              "      <td>3843</td>\n",
              "    </tr>\n",
              "    <tr>\n",
              "      <th>Mid-level</th>\n",
              "      <td>3764</td>\n",
              "    </tr>\n",
              "    <tr>\n",
              "      <th>Senior-level</th>\n",
              "      <td>3741</td>\n",
              "    </tr>\n",
              "    <tr>\n",
              "      <th>Entry-level</th>\n",
              "      <td>3652</td>\n",
              "    </tr>\n",
              "  </tbody>\n",
              "</table>\n",
              "</div><br><label><b>dtype:</b> int64</label>"
            ]
          },
          "metadata": {},
          "execution_count": 6
        }
      ]
    },
    {
      "cell_type": "code",
      "source": [
        "# Standardize employment_type\n",
        "df['employment_type'] = df['employment_type'].replace({\n",
        "    'FT': 'Full-time',\n",
        "    'PT': 'Part-time',\n",
        "    'CT': 'Contract',\n",
        "    'FL': 'Freelance'\n",
        "})\n",
        "\n",
        "#show header with style\n",
        "display(HTML(\"<h4>📌 Standardize: <code>employment_type</code></h4>\"))\n",
        "\n",
        "#Show counting results\n",
        "employment_counts = df['employment_type'].value_counts().to_frame('Count')\n",
        "display(employment_counts.style.set_caption(\"Distribution of Employment Types\"))"
      ],
      "metadata": {
        "colab": {
          "base_uri": "https://localhost:8080/",
          "height": 281
        },
        "id": "7FRQBQV7mfgE",
        "outputId": "f785d373-87a7-4aed-dcab-2b23d55445ec",
        "collapsed": true
      },
      "execution_count": 7,
      "outputs": [
        {
          "output_type": "display_data",
          "data": {
            "text/plain": [
              "<IPython.core.display.HTML object>"
            ],
            "text/html": [
              "<h4>📌 Standardize: <code>employment_type</code></h4>"
            ]
          },
          "metadata": {}
        },
        {
          "output_type": "display_data",
          "data": {
            "text/plain": [
              "<pandas.io.formats.style.Styler at 0x792058f53890>"
            ],
            "text/html": [
              "<style type=\"text/css\">\n",
              "</style>\n",
              "<table id=\"T_8dc36\" class=\"dataframe\">\n",
              "  <caption>Distribution of Employment Types</caption>\n",
              "  <thead>\n",
              "    <tr>\n",
              "      <th class=\"blank level0\" >&nbsp;</th>\n",
              "      <th id=\"T_8dc36_level0_col0\" class=\"col_heading level0 col0\" >Count</th>\n",
              "    </tr>\n",
              "    <tr>\n",
              "      <th class=\"index_name level0\" >employment_type</th>\n",
              "      <th class=\"blank col0\" >&nbsp;</th>\n",
              "    </tr>\n",
              "  </thead>\n",
              "  <tbody>\n",
              "    <tr>\n",
              "      <th id=\"T_8dc36_level0_row0\" class=\"row_heading level0 row0\" >Contract</th>\n",
              "      <td id=\"T_8dc36_row0_col0\" class=\"data row0 col0\" >3841</td>\n",
              "    </tr>\n",
              "    <tr>\n",
              "      <th id=\"T_8dc36_level0_row1\" class=\"row_heading level0 row1\" >Part-time</th>\n",
              "      <td id=\"T_8dc36_row1_col0\" class=\"data row1 col0\" >3757</td>\n",
              "    </tr>\n",
              "    <tr>\n",
              "      <th id=\"T_8dc36_level0_row2\" class=\"row_heading level0 row2\" >Freelance</th>\n",
              "      <td id=\"T_8dc36_row2_col0\" class=\"data row2 col0\" >3705</td>\n",
              "    </tr>\n",
              "    <tr>\n",
              "      <th id=\"T_8dc36_level0_row3\" class=\"row_heading level0 row3\" >Full-time</th>\n",
              "      <td id=\"T_8dc36_row3_col0\" class=\"data row3 col0\" >3697</td>\n",
              "    </tr>\n",
              "  </tbody>\n",
              "</table>\n"
            ]
          },
          "metadata": {}
        }
      ]
    },
    {
      "cell_type": "code",
      "source": [
        "# Standardize company_size\n",
        "df['company_size'] = df['company_size'].replace({\n",
        "    'S': 'Small',\n",
        "    'M': 'Medium',\n",
        "    'L': 'Large'\n",
        "})\n",
        "\n",
        "#Show header with style\n",
        "display(HTML(\"<h4>🏢 Standardize: <code>company_size</code></h4>\"))\n",
        "\n",
        "# Show counting results\n",
        "company_size_counts = df['company_size'].value_counts().to_frame('Count')\n",
        "display(company_size_counts.style.set_caption(\"Distribution of Company Sizes\"))"
      ],
      "metadata": {
        "colab": {
          "base_uri": "https://localhost:8080/",
          "height": 249
        },
        "id": "M2yY7lW2mqwp",
        "outputId": "7953f06d-8c95-45f7-ca51-b95be2a5b68a",
        "collapsed": true
      },
      "execution_count": 8,
      "outputs": [
        {
          "output_type": "display_data",
          "data": {
            "text/plain": [
              "<IPython.core.display.HTML object>"
            ],
            "text/html": [
              "<h4>🏢 Standardize: <code>company_size</code></h4>"
            ]
          },
          "metadata": {}
        },
        {
          "output_type": "display_data",
          "data": {
            "text/plain": [
              "<pandas.io.formats.style.Styler at 0x79205927f380>"
            ],
            "text/html": [
              "<style type=\"text/css\">\n",
              "</style>\n",
              "<table id=\"T_a7697\" class=\"dataframe\">\n",
              "  <caption>Distribution of Company Sizes</caption>\n",
              "  <thead>\n",
              "    <tr>\n",
              "      <th class=\"blank level0\" >&nbsp;</th>\n",
              "      <th id=\"T_a7697_level0_col0\" class=\"col_heading level0 col0\" >Count</th>\n",
              "    </tr>\n",
              "    <tr>\n",
              "      <th class=\"index_name level0\" >company_size</th>\n",
              "      <th class=\"blank col0\" >&nbsp;</th>\n",
              "    </tr>\n",
              "  </thead>\n",
              "  <tbody>\n",
              "    <tr>\n",
              "      <th id=\"T_a7697_level0_row0\" class=\"row_heading level0 row0\" >Large</th>\n",
              "      <td id=\"T_a7697_row0_col0\" class=\"data row0 col0\" >5087</td>\n",
              "    </tr>\n",
              "    <tr>\n",
              "      <th id=\"T_a7697_level0_row1\" class=\"row_heading level0 row1\" >Small</th>\n",
              "      <td id=\"T_a7697_row1_col0\" class=\"data row1 col0\" >4975</td>\n",
              "    </tr>\n",
              "    <tr>\n",
              "      <th id=\"T_a7697_level0_row2\" class=\"row_heading level0 row2\" >Medium</th>\n",
              "      <td id=\"T_a7697_row2_col0\" class=\"data row2 col0\" >4938</td>\n",
              "    </tr>\n",
              "  </tbody>\n",
              "</table>\n"
            ]
          },
          "metadata": {}
        }
      ]
    },
    {
      "cell_type": "code",
      "source": [
        "#Prepare the required_skills\n",
        "df['required_skills'] = df['required_skills'].str.split(', ')\n"
      ],
      "metadata": {
        "id": "hwAs13UJnXHg"
      },
      "execution_count": 9,
      "outputs": []
    },
    {
      "cell_type": "code",
      "source": [
        "#Flatten the required_skills column (convert lists into a single list)\n",
        "all_skills = df['required_skills'].explode()\n",
        "\n",
        "#Count the frequency of each skill\n",
        "skill_counts = Counter(all_skills)\n",
        "\n",
        "#Get the Top 10 most frequent skills\n",
        "top_10_skills = skill_counts.most_common(10)\n",
        "\n",
        "# Create a DataFrame from the top 10 skills\n",
        "top_skills_df = pd.DataFrame(top_10_skills, columns=[\"Skill\", \"Count\"])\n",
        "\n",
        "# Save as CSV in the files folder\n",
        "top_skills_df.to_csv(\"files/top_10_skills.csv\", index=False)\n",
        "\n",
        "# Display to verify\n",
        "top_skills_df\n",
        "\n",
        "# Display table in HTML form\n",
        "display(HTML(\n",
        "    top_skills_df.style\n",
        "        .set_caption(\"🔝 Top 10 Most In-Demand AI Skills (2025)\")\n",
        "        .format({\"Count\": \"{:,}\"})\n",
        "        .set_table_styles([\n",
        "            {'selector': 'caption', 'props': [('font-size', '16px'), ('font-weight', 'bold'), ('color', '#333')]},\n",
        "            {'selector': 'th', 'props': [('background-color', '#f0f0f0'), ('color', '#000')]},\n",
        "            {'selector': 'td', 'props': [('font-size', '14px')]}\n",
        "        ])\n",
        "        .to_html()\n",
        "))\n"
      ],
      "metadata": {
        "colab": {
          "base_uri": "https://localhost:8080/",
          "height": 313
        },
        "id": "HZ6XYyYRhab3",
        "outputId": "c1e7bab2-7b72-41ad-9bae-e0a9ea15223c",
        "collapsed": true
      },
      "execution_count": 26,
      "outputs": [
        {
          "output_type": "display_data",
          "data": {
            "text/plain": [
              "<IPython.core.display.HTML object>"
            ],
            "text/html": [
              "<style type=\"text/css\">\n",
              "#T_c77dd caption {\n",
              "  font-size: 16px;\n",
              "  font-weight: bold;\n",
              "  color: #333;\n",
              "}\n",
              "#T_c77dd th {\n",
              "  background-color: #f0f0f0;\n",
              "  color: #000;\n",
              "}\n",
              "#T_c77dd td {\n",
              "  font-size: 14px;\n",
              "}\n",
              "</style>\n",
              "<table id=\"T_c77dd\">\n",
              "  <caption>🔝 Top 10 Most In-Demand AI Skills (2025)</caption>\n",
              "  <thead>\n",
              "    <tr>\n",
              "      <th class=\"blank level0\" >&nbsp;</th>\n",
              "      <th id=\"T_c77dd_level0_col0\" class=\"col_heading level0 col0\" >Skill</th>\n",
              "      <th id=\"T_c77dd_level0_col1\" class=\"col_heading level0 col1\" >Count</th>\n",
              "    </tr>\n",
              "  </thead>\n",
              "  <tbody>\n",
              "    <tr>\n",
              "      <th id=\"T_c77dd_level0_row0\" class=\"row_heading level0 row0\" >0</th>\n",
              "      <td id=\"T_c77dd_row0_col0\" class=\"data row0 col0\" >Python</td>\n",
              "      <td id=\"T_c77dd_row0_col1\" class=\"data row0 col1\" >4,499</td>\n",
              "    </tr>\n",
              "    <tr>\n",
              "      <th id=\"T_c77dd_level0_row1\" class=\"row_heading level0 row1\" >1</th>\n",
              "      <td id=\"T_c77dd_row1_col0\" class=\"data row1 col0\" >SQL</td>\n",
              "      <td id=\"T_c77dd_row1_col1\" class=\"data row1 col1\" >3,511</td>\n",
              "    </tr>\n",
              "    <tr>\n",
              "      <th id=\"T_c77dd_level0_row2\" class=\"row_heading level0 row2\" >2</th>\n",
              "      <td id=\"T_c77dd_row2_col0\" class=\"data row2 col0\" >TensorFlow</td>\n",
              "      <td id=\"T_c77dd_row2_col1\" class=\"data row2 col1\" >3,096</td>\n",
              "    </tr>\n",
              "    <tr>\n",
              "      <th id=\"T_c77dd_level0_row3\" class=\"row_heading level0 row3\" >3</th>\n",
              "      <td id=\"T_c77dd_row3_col0\" class=\"data row3 col0\" >Kubernetes</td>\n",
              "      <td id=\"T_c77dd_row3_col1\" class=\"data row3 col1\" >3,078</td>\n",
              "    </tr>\n",
              "    <tr>\n",
              "      <th id=\"T_c77dd_level0_row4\" class=\"row_heading level0 row4\" >4</th>\n",
              "      <td id=\"T_c77dd_row4_col0\" class=\"data row4 col0\" >PyTorch</td>\n",
              "      <td id=\"T_c77dd_row4_col1\" class=\"data row4 col1\" >2,831</td>\n",
              "    </tr>\n",
              "    <tr>\n",
              "      <th id=\"T_c77dd_level0_row5\" class=\"row_heading level0 row5\" >5</th>\n",
              "      <td id=\"T_c77dd_row5_col0\" class=\"data row5 col0\" >Scala</td>\n",
              "      <td id=\"T_c77dd_row5_col1\" class=\"data row5 col1\" >2,748</td>\n",
              "    </tr>\n",
              "    <tr>\n",
              "      <th id=\"T_c77dd_level0_row6\" class=\"row_heading level0 row6\" >6</th>\n",
              "      <td id=\"T_c77dd_row6_col0\" class=\"data row6 col0\" >Linux</td>\n",
              "      <td id=\"T_c77dd_row6_col1\" class=\"data row6 col1\" >2,642</td>\n",
              "    </tr>\n",
              "    <tr>\n",
              "      <th id=\"T_c77dd_level0_row7\" class=\"row_heading level0 row7\" >7</th>\n",
              "      <td id=\"T_c77dd_row7_col0\" class=\"data row7 col0\" >Java</td>\n",
              "      <td id=\"T_c77dd_row7_col1\" class=\"data row7 col1\" >2,531</td>\n",
              "    </tr>\n",
              "    <tr>\n",
              "      <th id=\"T_c77dd_level0_row8\" class=\"row_heading level0 row8\" >8</th>\n",
              "      <td id=\"T_c77dd_row8_col0\" class=\"data row8 col0\" >Git</td>\n",
              "      <td id=\"T_c77dd_row8_col1\" class=\"data row8 col1\" >2,491</td>\n",
              "    </tr>\n",
              "    <tr>\n",
              "      <th id=\"T_c77dd_level0_row9\" class=\"row_heading level0 row9\" >9</th>\n",
              "      <td id=\"T_c77dd_row9_col0\" class=\"data row9 col0\" >GCP</td>\n",
              "      <td id=\"T_c77dd_row9_col1\" class=\"data row9 col1\" >2,460</td>\n",
              "    </tr>\n",
              "  </tbody>\n",
              "</table>\n"
            ]
          },
          "metadata": {}
        }
      ]
    },
    {
      "cell_type": "markdown",
      "source": [
        "###Visualization: Top 10 Most In-Demand AI Skills\n",
        "\n",
        "After exploring the required skills from the dataset, it's time to take a closer look at the **Top 10 most frequently mentioned**.\n",
        "\n",
        "We’ll use a bar chart built with **`matplotlib`** to visualize the frequency of these skills.  \n",
        "This will help us clearly identify which technical competencies are most in demand in the AI job market for 2025, and give us a better sense of the technologies that companies are actively hiring for.\n"
      ],
      "metadata": {
        "id": "M8upgeYPjklg"
      }
    },
    {
      "cell_type": "code",
      "source": [
        "#Create outputs folder if it doesn't exist\n",
        "os.makedirs(\"files\", exist_ok=True)\n",
        "#Reseparate names and values from the top 10\n",
        "skills, counts = zip(*top_10_skills)"
      ],
      "metadata": {
        "id": "xP0xpHqHpxIh"
      },
      "execution_count": 27,
      "outputs": []
    },
    {
      "cell_type": "code",
      "source": [
        "# Save the bar chart as PNG\n",
        "plt.figure(figsize=(10,5))\n",
        "plt.bar(skills, counts, color='#17becf', edgecolor='black')\n",
        "plt.title(\"Top 10 Most In-Demand AI Skills (2025)\", fontsize=14)\n",
        "plt.xlabel(\"Skills\", fontsize=12)\n",
        "plt.ylabel(\"Frequency\", fontsize=12)\n",
        "plt.xticks(rotation=45)\n",
        "plt.grid(axis='y', linestyle='--', alpha=0.6)\n",
        "plt.tight_layout()\n",
        "\n",
        "#Save the image in the outputs folder\n",
        "plt.savefig(\"outputs/top_10_ai_skills.png\", dpi=1024)\n",
        "\n",
        "plt.show()"
      ],
      "metadata": {
        "colab": {
          "base_uri": "https://localhost:8080/",
          "height": 507
        },
        "id": "6CNbMYCQn7mb",
        "outputId": "368833d3-1efb-4d3c-a016-14c35f9f61e3"
      },
      "execution_count": 28,
      "outputs": [
        {
          "output_type": "display_data",
          "data": {
            "text/plain": [
              "<Figure size 1000x500 with 1 Axes>"
            ],
            "image/png": "[encoded data removed]"
          },
          "metadata": {}
        }
      ]
    },
    {
      "cell_type": "markdown",
      "source": [
        "###My Progress vs. Top AI Skills (2025)\n",
        "\n",
        "The following table shows how my current skills align with the Top 10 most in-demand AI technologies identified in this project:\n",
        "\n",
        "| Rank | Skill       | Demand Count | My Skill Level     |\n",
        "|------|-------------|---------------|---------------------|\n",
        "| 1    | Python      | 4,499         | ✅ Advanced         |\n",
        "| 2    | SQL         | 3,511         | ✅ Intermediate     |\n",
        "| 3    | TensorFlow  | 3,096         | ❌ Not started yet  |\n",
        "| 4    | Kubernetes  | 3,078         | 🟡 Learning         |\n",
        "| 5    | PyTorch     | 2,831         | ❌ Not started yet  |\n",
        "| 6    | Scala       | 2,748         | ❌ Not started yet  |\n",
        "| 7    | Linux       | 2,642         | ✅ Advanced         |\n",
        "| 8    | Java        | 2,531         | ❌ Not started yet  |\n",
        "| 9    | Git         | 2,491         | ✅ Comfortable      |\n",
        "| 10   | GCP         | 2,460         | ✅ Course completed |"
      ],
      "metadata": {
        "id": "BuyKLzWLyi2Y"
      }
    },
    {
      "cell_type": "markdown",
      "source": [
        "###Distribution of AI Jobs by Country and Experience Level\n",
        "\n",
        "This section analyzes the number of AI job openings by country, broken down by experience level. It helps us understand which countries offer the most opportunities and whether they are targeting junior, mid-level, or senior professionals.\n",
        "\n",
        "This analysis is especially useful for identifying both entry-level and advanced roles across different regions.\n"
      ],
      "metadata": {
        "id": "50TwEDmJjD9O"
      }
    },
    {
      "cell_type": "code",
      "source": [
        "# Group by country and experience level\n",
        "jobs_by_country_exp = df.groupby(['company_location', 'experience_level']).size().reset_index(name='Job Count')\n",
        "\n",
        "# Filter the 5 countries with the most total offers\n",
        "top_countries = df['company_location'].value_counts().head(5).index\n",
        "\n",
        "# Filter the dataframe for those countries\n",
        "filtered = jobs_by_country_exp[jobs_by_country_exp['company_location'].isin(top_countries)]\n",
        "\n",
        "# Remove the index\n",
        "filtered = filtered.reset_index(drop=True)\n",
        "\n",
        "# Display styled table with 'company_location' and 'experience_level' as index\n",
        "filtered_display = filtered.copy()\n",
        "filtered_display.columns = ['Company Location', 'Experience Level', 'Job Count']\n",
        "\n",
        "filtered_display.set_index(['Company Location', 'Experience Level','Job Count']).style \\\n",
        "    .set_caption(\"🔝 Top 5 COUNTRIES by Experience Level in AI Job Postings\") \\\n",
        "    .format({\"Job Count\": \"{:,}\"}) \\\n",
        "    .set_table_styles([{\n",
        "        'selector': 'caption',\n",
        "        'props': [('color', '#333'), ('font-size', '16px'), ('font-weight', 'bold')]\n",
        "    }])"
      ],
      "metadata": {
        "colab": {
          "base_uri": "https://localhost:8080/",
          "height": 716
        },
        "id": "dTKQ_db1jxRR",
        "outputId": "c44edd68-b3c0-40d6-e140-1bb65e2294f1"
      },
      "execution_count": 29,
      "outputs": [
        {
          "output_type": "execute_result",
          "data": {
            "text/plain": [
              "<pandas.io.formats.style.Styler at 0x792058ff1c40>"
            ],
            "text/html": [
              "<style type=\"text/css\">\n",
              "#T_9223a caption {\n",
              "  color: #333;\n",
              "  font-size: 16px;\n",
              "  font-weight: bold;\n",
              "}\n",
              "</style>\n",
              "<table id=\"T_9223a\" class=\"dataframe\">\n",
              "  <caption>🔝 Top 5 COUNTRIES by Experience Level in AI Job Postings</caption>\n",
              "  <thead>\n",
              "    <tr>\n",
              "      <th class=\"index_name level0\" >Company Location</th>\n",
              "      <th class=\"index_name level1\" >Experience Level</th>\n",
              "      <th class=\"index_name level2\" >Job Count</th>\n",
              "    </tr>\n",
              "  </thead>\n",
              "  <tbody>\n",
              "    <tr>\n",
              "      <th id=\"T_9223a_level0_row0\" class=\"row_heading level0 row0\" rowspan=\"4\">Canada</th>\n",
              "      <th id=\"T_9223a_level1_row0\" class=\"row_heading level1 row0\" >Entry-level</th>\n",
              "      <th id=\"T_9223a_level2_row0\" class=\"row_heading level2 row0\" >197</th>\n",
              "    </tr>\n",
              "    <tr>\n",
              "      <th id=\"T_9223a_level1_row1\" class=\"row_heading level1 row1\" >Executive</th>\n",
              "      <th id=\"T_9223a_level2_row1\" class=\"row_heading level2 row1\" >190</th>\n",
              "    </tr>\n",
              "    <tr>\n",
              "      <th id=\"T_9223a_level1_row2\" class=\"row_heading level1 row2\" >Mid-level</th>\n",
              "      <th id=\"T_9223a_level2_row2\" class=\"row_heading level2 row2\" >196</th>\n",
              "    </tr>\n",
              "    <tr>\n",
              "      <th id=\"T_9223a_level1_row3\" class=\"row_heading level1 row3\" >Senior-level</th>\n",
              "      <th id=\"T_9223a_level2_row3\" class=\"row_heading level2 row3\" >198</th>\n",
              "    </tr>\n",
              "    <tr>\n",
              "      <th id=\"T_9223a_level0_row4\" class=\"row_heading level0 row4\" rowspan=\"4\">Singapore</th>\n",
              "      <th id=\"T_9223a_level1_row4\" class=\"row_heading level1 row4\" >Entry-level</th>\n",
              "      <th id=\"T_9223a_level2_row4\" class=\"row_heading level2 row4\" >190</th>\n",
              "    </tr>\n",
              "    <tr>\n",
              "      <th id=\"T_9223a_level1_row5\" class=\"row_heading level1 row5\" >Executive</th>\n",
              "      <th id=\"T_9223a_level2_row5\" class=\"row_heading level2 row5\" >186</th>\n",
              "    </tr>\n",
              "    <tr>\n",
              "      <th id=\"T_9223a_level1_row6\" class=\"row_heading level1 row6\" >Mid-level</th>\n",
              "      <th id=\"T_9223a_level2_row6\" class=\"row_heading level2 row6\" >179</th>\n",
              "    </tr>\n",
              "    <tr>\n",
              "      <th id=\"T_9223a_level1_row7\" class=\"row_heading level1 row7\" >Senior-level</th>\n",
              "      <th id=\"T_9223a_level2_row7\" class=\"row_heading level2 row7\" >207</th>\n",
              "    </tr>\n",
              "    <tr>\n",
              "      <th id=\"T_9223a_level0_row8\" class=\"row_heading level0 row8\" rowspan=\"4\">Switzerland</th>\n",
              "      <th id=\"T_9223a_level1_row8\" class=\"row_heading level1 row8\" >Entry-level</th>\n",
              "      <th id=\"T_9223a_level2_row8\" class=\"row_heading level2 row8\" >212</th>\n",
              "    </tr>\n",
              "    <tr>\n",
              "      <th id=\"T_9223a_level1_row9\" class=\"row_heading level1 row9\" >Executive</th>\n",
              "      <th id=\"T_9223a_level2_row9\" class=\"row_heading level2 row9\" >209</th>\n",
              "    </tr>\n",
              "    <tr>\n",
              "      <th id=\"T_9223a_level1_row10\" class=\"row_heading level1 row10\" >Mid-level</th>\n",
              "      <th id=\"T_9223a_level2_row10\" class=\"row_heading level2 row10\" >201</th>\n",
              "    </tr>\n",
              "    <tr>\n",
              "      <th id=\"T_9223a_level1_row11\" class=\"row_heading level1 row11\" >Senior-level</th>\n",
              "      <th id=\"T_9223a_level2_row11\" class=\"row_heading level2 row11\" >197</th>\n",
              "    </tr>\n",
              "    <tr>\n",
              "      <th id=\"T_9223a_level0_row12\" class=\"row_heading level0 row12\" rowspan=\"4\">United Kingdom</th>\n",
              "      <th id=\"T_9223a_level1_row12\" class=\"row_heading level1 row12\" >Entry-level</th>\n",
              "      <th id=\"T_9223a_level2_row12\" class=\"row_heading level2 row12\" >206</th>\n",
              "    </tr>\n",
              "    <tr>\n",
              "      <th id=\"T_9223a_level1_row13\" class=\"row_heading level1 row13\" >Executive</th>\n",
              "      <th id=\"T_9223a_level2_row13\" class=\"row_heading level2 row13\" >202</th>\n",
              "    </tr>\n",
              "    <tr>\n",
              "      <th id=\"T_9223a_level1_row14\" class=\"row_heading level1 row14\" >Mid-level</th>\n",
              "      <th id=\"T_9223a_level2_row14\" class=\"row_heading level2 row14\" >191</th>\n",
              "    </tr>\n",
              "    <tr>\n",
              "      <th id=\"T_9223a_level1_row15\" class=\"row_heading level1 row15\" >Senior-level</th>\n",
              "      <th id=\"T_9223a_level2_row15\" class=\"row_heading level2 row15\" >181</th>\n",
              "    </tr>\n",
              "    <tr>\n",
              "      <th id=\"T_9223a_level0_row16\" class=\"row_heading level0 row16\" rowspan=\"4\">United States</th>\n",
              "      <th id=\"T_9223a_level1_row16\" class=\"row_heading level1 row16\" >Entry-level</th>\n",
              "      <th id=\"T_9223a_level2_row16\" class=\"row_heading level2 row16\" >206</th>\n",
              "    </tr>\n",
              "    <tr>\n",
              "      <th id=\"T_9223a_level1_row17\" class=\"row_heading level1 row17\" >Executive</th>\n",
              "      <th id=\"T_9223a_level2_row17\" class=\"row_heading level2 row17\" >192</th>\n",
              "    </tr>\n",
              "    <tr>\n",
              "      <th id=\"T_9223a_level1_row18\" class=\"row_heading level1 row18\" >Mid-level</th>\n",
              "      <th id=\"T_9223a_level2_row18\" class=\"row_heading level2 row18\" >197</th>\n",
              "    </tr>\n",
              "    <tr>\n",
              "      <th id=\"T_9223a_level1_row19\" class=\"row_heading level1 row19\" >Senior-level</th>\n",
              "      <th id=\"T_9223a_level2_row19\" class=\"row_heading level2 row19\" >181</th>\n",
              "    </tr>\n",
              "  </tbody>\n",
              "</table>\n"
            ]
          },
          "metadata": {},
          "execution_count": 29
        }
      ]
    },
    {
      "cell_type": "markdown",
      "source": [
        "###AI Job Openings by Country and Experience Level\n",
        "\n",
        "This clustered bar chart shows the distribution of AI job opportunities by **country** and **experience level** in the 5 countries with the most vacancies.\n",
        "\n",
        "By visualizing this data, we can better understand:\n",
        "\n",
        "- Which countries are leading in AI hiring.\n",
        "- Whether they focus on junior, intermediate, or senior professionals.\n",
        "- How the demand for talent varies by region.\n",
        "\n",
        "This type of analysis is especially useful for job seekers and data professionals (myself included) who want to identify where their skills are most needed.\n"
      ],
      "metadata": {
        "id": "jyW4t3dJzxyr"
      }
    },
    {
      "cell_type": "code",
      "source": [
        "#Create copy to work with pretty names\n",
        "df_plot = filtered.copy()\n",
        "df_plot.columns = ['Company Location', 'Experience Level', 'Job Count']\n",
        "\n",
        "#Configure the chart\n",
        "plt.figure(figsize=(10, 4))\n",
        "sns.barplot(\n",
        "    data=df_plot,\n",
        "    x='Company Location',\n",
        "    y='Job Count',\n",
        "    hue='Experience Level',\n",
        "    palette='cubehelix',\n",
        "    edgecolor='black'\n",
        ")\n",
        "\n",
        "#Titles and format\n",
        "plt.title('AI Job Postings by Country and Experience Level (Top 5)', fontsize=14)\n",
        "plt.xlabel('Country', fontsize=12)\n",
        "plt.ylabel('Number of Job Postings', fontsize=11)\n",
        "plt.legend(title='Experience Level')\n",
        "plt.grid(axis='y', linestyle='--', alpha=0.6)\n",
        "plt.tight_layout()\n",
        "\n",
        "#Save the image\n",
        "plt.savefig('outputs/ai_jobs_by_country_exp.png', dpi=1024)\n",
        "\n",
        "#Show\n",
        "plt.show()"
      ],
      "metadata": {
        "colab": {
          "base_uri": "https://localhost:8080/",
          "height": 407
        },
        "id": "0-5vkiQTwWxd",
        "outputId": "0c7f1639-eb87-4460-92d7-0daa31b14b87"
      },
      "execution_count": 30,
      "outputs": [
        {
          "output_type": "display_data",
          "data": {
            "text/plain": [
              "<Figure size 1000x400 with 1 Axes>"
            ],
            "image/png": "[encoded data removed]"
          },
          "metadata": {}
        }
      ]
    },
    {
      "cell_type": "markdown",
      "source": [
        "###Recruiter Expectations by Experience Level\n",
        "\n",
        "Based on the data, here are typical expectations for each experience level:\n",
        "\n",
        "- **Entry-Level**: Candidates are expected to show foundational knowledge, adaptability, and willingness to learn. Recruiters may look for generalist skills and curiosity.\n",
        "\n",
        "- **Mid-Level**: Recruiters expect applied experience, familiarity with tools, and the ability to work independently. Emphasis on collaboration and real-world project exposure.\n",
        "\n",
        "- **Senior-Level**: Strategic thinking, system design, and leadership over full pipelines or AI projects. Recruiters seek strong portfolios, mentoring ability, and decision-making skills.\n",
        "\n",
        "- **Executive**: Business acumen, cross-functional leadership, and the ability to align AI initiatives with company goals. Less about coding, more about vision and impact.\n",
        "\n",
        "These expectations also vary by country: for example, **Germany** tends to value certifications more, while **US** jobs emphasize project portfolios and results."
      ],
      "metadata": {
        "id": "eUhxdSc83lNw"
      }
    },
    {
      "cell_type": "code",
      "source": [
        "#Check the Salary column\n",
        "df.columns\n",
        "\n",
        "#Visualize the salary distribution\n",
        "df['salary_usd'].describe()\n",
        "\n",
        "#Calculate percentiles\n",
        "p25 = df['salary_usd'].quantile(0.25)\n",
        "p75 = df['salary_usd'].quantile(0.75)\n",
        "\n",
        "#Function to categorize\n",
        "def categorize_salary(salary):\n",
        "    if salary < p25:\n",
        "        return 'Low'\n",
        "    elif salary > p75:\n",
        "        return 'High'\n",
        "    else:\n",
        "        return 'Moderate'\n",
        "\n",
        "#Create a new column\n",
        "df['salary_range'] = df['salary_usd'].apply(categorize_salary)"
      ],
      "metadata": {
        "id": "8WQznCN-4HuD"
      },
      "execution_count": 33,
      "outputs": []
    },
    {
      "cell_type": "code",
      "source": [
        "#Create crosstab\n",
        "salary_by_experience = df.groupby(['experience_level', 'salary_range']).size().unstack().fillna(0).astype(int)\n",
        "\n",
        "#Display table with style\n",
        "salary_by_experience.style \\\n",
        "    .set_caption(\"📊 AI Job Count by Experience Level and Salary Range\") \\\n",
        "    .set_table_styles([\n",
        "        {'selector': 'caption',\n",
        "         'props': [('color', '#333'), ('font-size', '16px'), ('font-weight', 'bold')]},\n",
        "        {'selector': 'th',\n",
        "         'props': [('font-weight', 'bold'), ('background-color', '#f2f2f2')]}\n",
        "    ]) \\\n",
        "    .format(\"{:,}\")"
      ],
      "metadata": {
        "colab": {
          "base_uri": "https://localhost:8080/",
          "height": 246
        },
        "id": "VkkFFe-z6Oxw",
        "outputId": "b4ee8fd8-a8f9-4ba2-ca8c-d2802cc27072"
      },
      "execution_count": 32,
      "outputs": [
        {
          "output_type": "execute_result",
          "data": {
            "text/plain": [
              "<pandas.io.formats.style.Styler at 0x7920597d11f0>"
            ],
            "text/html": [
              "<style type=\"text/css\">\n",
              "#T_a2394 caption {\n",
              "  color: #333;\n",
              "  font-size: 16px;\n",
              "  font-weight: bold;\n",
              "}\n",
              "#T_a2394 th {\n",
              "  font-weight: bold;\n",
              "  background-color: #f2f2f2;\n",
              "}\n",
              "</style>\n",
              "<table id=\"T_a2394\" class=\"dataframe\">\n",
              "  <caption>📊 AI Job Count by Experience Level and Salary Range</caption>\n",
              "  <thead>\n",
              "    <tr>\n",
              "      <th class=\"index_name level0\" >salary_range</th>\n",
              "      <th id=\"T_a2394_level0_col0\" class=\"col_heading level0 col0\" >High</th>\n",
              "      <th id=\"T_a2394_level0_col1\" class=\"col_heading level0 col1\" >Low</th>\n",
              "      <th id=\"T_a2394_level0_col2\" class=\"col_heading level0 col2\" >Moderate</th>\n",
              "    </tr>\n",
              "    <tr>\n",
              "      <th class=\"index_name level0\" >experience_level</th>\n",
              "      <th class=\"blank col0\" >&nbsp;</th>\n",
              "      <th class=\"blank col1\" >&nbsp;</th>\n",
              "      <th class=\"blank col2\" >&nbsp;</th>\n",
              "    </tr>\n",
              "  </thead>\n",
              "  <tbody>\n",
              "    <tr>\n",
              "      <th id=\"T_a2394_level0_row0\" class=\"row_heading level0 row0\" >Entry-level</th>\n",
              "      <td id=\"T_a2394_row0_col0\" class=\"data row0 col0\" >0</td>\n",
              "      <td id=\"T_a2394_row0_col1\" class=\"data row0 col1\" >2,472</td>\n",
              "      <td id=\"T_a2394_row0_col2\" class=\"data row0 col2\" >1,180</td>\n",
              "    </tr>\n",
              "    <tr>\n",
              "      <th id=\"T_a2394_level0_row1\" class=\"row_heading level0 row1\" >Executive</th>\n",
              "      <td id=\"T_a2394_row1_col0\" class=\"data row1 col0\" >2,964</td>\n",
              "      <td id=\"T_a2394_row1_col1\" class=\"data row1 col1\" >137</td>\n",
              "      <td id=\"T_a2394_row1_col2\" class=\"data row1 col2\" >742</td>\n",
              "    </tr>\n",
              "    <tr>\n",
              "      <th id=\"T_a2394_level0_row2\" class=\"row_heading level0 row2\" >Mid-level</th>\n",
              "      <td id=\"T_a2394_row2_col0\" class=\"data row2 col0\" >47</td>\n",
              "      <td id=\"T_a2394_row2_col1\" class=\"data row2 col1\" >794</td>\n",
              "      <td id=\"T_a2394_row2_col2\" class=\"data row2 col2\" >2,923</td>\n",
              "    </tr>\n",
              "    <tr>\n",
              "      <th id=\"T_a2394_level0_row3\" class=\"row_heading level0 row3\" >Senior-level</th>\n",
              "      <td id=\"T_a2394_row3_col0\" class=\"data row3 col0\" >739</td>\n",
              "      <td id=\"T_a2394_row3_col1\" class=\"data row3 col1\" >347</td>\n",
              "      <td id=\"T_a2394_row3_col2\" class=\"data row3 col2\" >2,655</td>\n",
              "    </tr>\n",
              "  </tbody>\n",
              "</table>\n"
            ]
          },
          "metadata": {},
          "execution_count": 32
        }
      ]
    },
    {
      "cell_type": "markdown",
      "source": [
        "### AI Job Count by Experience Level and Salary Range\n",
        "\n",
        "This clustered bar chart shows the distribution of AI job openings by **experience level** and categorized **salary range** (`Low`, `Moderate`, `High`).\n",
        "\n",
        "To avoid the sensitivity around exact salaries, this analysis groups them by dataset percentiles:\n",
        "- **Low**: bottom 25% (below P25)  \n",
        "- **Moderate**: middle 50% (P25–P75)  \n",
        "- **High**: top 25% (above P75)\n",
        "\n",
        "**What are percentiles?**  \n",
        "Percentiles indicate the position of a value within an ordered dataset.  \n",
        "- **P25 (25th percentile):** 25% of values are **below** this number (and 75% above).  \n",
        "- **P50 (median):** 50% of values are below and 50% above.  \n",
        "- **P75 (75th percentile):** 75% of values are below this number (top 25% above).\n",
        "\n",
        "### Real-World Salary Interpretation\n",
        "\n",
        "- **Low**  \n",
        "  - *Dataset:* less than **$80,000**  \n",
        "  - *Typical offers:* **$55,000–$70,000**  \n",
        "  - *Common for:* Entry-level / Junior roles\n",
        "\n",
        "- **Moderate**  \n",
        "  - *Dataset:* **$80,000–$130,000**  \n",
        "  - *Typical offers:* **$90,000–$120,000**  \n",
        "  - *Common for:* Mid-level professionals\n",
        "\n",
        "- **High**  \n",
        "  - *Dataset:* more than **$130,000**  \n",
        "  - *Typical offers:* **$140,000–$200,000+**  \n",
        "  - *Common for:* Senior / Executive positions\n",
        "\n",
        "> These ranges may vary by location, company size, and remote status, but they provide a grounded reference for 2025 compensation expectations.\n",
        "\n",
        "### Key Insights\n",
        "\n",
        "- Entry-level roles are mostly concentrated in the **Moderate** range, with very few in **High**.  \n",
        "- Senior and Executive roles appear more frequently in the **High** salary range.  \n",
        "- Mid-level roles are more evenly distributed across all categories.\n",
        "\n",
        "This categorization offers a **fair and anonymized** view of compensation across career stages — useful for both job seekers and recruiters."
      ],
      "metadata": {
        "id": "3GFHYPLW-F7j"
      }
    },
    {
      "cell_type": "code",
      "source": [
        "# Prepare data for chart\n",
        "df_plot = df.groupby(['experience_level', 'salary_range']).size().reset_index(name='Job Count')\n",
        "\n",
        "# Configure chart\n",
        "plt.figure(figsize=(10,4))\n",
        "sns.barplot(\n",
        "    data=df_plot,\n",
        "    x='experience_level',\n",
        "    y='Job Count',\n",
        "    hue='salary_range',\n",
        "    palette='mako',\n",
        "    edgecolor='black'\n",
        ")\n",
        "\n",
        "#Titles and labels\n",
        "plt.title('AI Job Count by Experience Level and Salary Range', fontsize=14)\n",
        "plt.xlabel('Experience Level', fontsize=12)\n",
        "plt.ylabel('Number of Jobs', fontsize=12)\n",
        "plt.legend(title='Salary Range')\n",
        "plt.grid(axis='y', linestyle='--', alpha=0.6)\n",
        "plt.tight_layout()\n",
        "\n",
        "# Guardar imagen\n",
        "plt.savefig('outputs/ai_salary_range_by_experience.png', dpi=1024)\n",
        "\n",
        "# Mostrar\n",
        "plt.show()"
      ],
      "metadata": {
        "colab": {
          "base_uri": "https://localhost:8080/",
          "height": 407
        },
        "id": "aVAnc7J38TdP",
        "outputId": "85dce813-058e-4f0d-a621-d37189cb9d59"
      },
      "execution_count": 34,
      "outputs": [
        {
          "output_type": "display_data",
          "data": {
            "text/plain": [
              "<Figure size 1000x400 with 1 Axes>"
            ],
            "image/png": "[encoded data removed]"
          },
          "metadata": {}
        }
      ]
    },
    {
      "cell_type": "code",
      "source": [
        "# Group by country and salary_range\n",
        "salary_by_country = df.groupby(['company_location', 'salary_range']).size().reset_index(name='Job Count')\n",
        "\n",
        "# Top 5 countries with most AI jobs\n",
        "top_5_countries = df['company_location'].value_counts().head(5).index\n",
        "\n",
        "# Filter salary data for top countries\n",
        "filtered_salary_by_country = salary_by_country[salary_by_country['company_location'].isin(top_5_countries)]\n",
        "\n",
        "#Rename columns for clearer display\n",
        "filtered_salary_by_country_display = filtered_salary_by_country.rename(columns={\n",
        "    'company_location': 'Country',\n",
        "    'salary_range': 'Salary Range',\n",
        "    'Job Count': 'Job Count'\n",
        "})\n",
        "\n",
        "#Display table with style\n",
        "filtered_salary_by_country_display.style \\\n",
        "    .set_caption(\"🌍 AI Job Count by Salary Range in Top 5 Countries\") \\\n",
        "    .set_table_styles([\n",
        "        {'selector': 'caption',\n",
        "         'props': [('color', '#333'), ('font-size', '16px'), ('font-weight', 'bold')]},\n",
        "        {'selector': 'th',\n",
        "         'props': [('font-weight', 'bold'), ('background-color', '#f2f2f2')]}\n",
        "    ]) \\\n",
        "    .format({\"Job Count\": \"{:,}\"})  #Applies only to numeric column"
      ],
      "metadata": {
        "colab": {
          "base_uri": "https://localhost:8080/",
          "height": 559
        },
        "id": "j95mFb3FLs9q",
        "outputId": "24a0c52c-7396-4299-aa67-e712defc0fc1"
      },
      "execution_count": 18,
      "outputs": [
        {
          "output_type": "execute_result",
          "data": {
            "text/plain": [
              "<pandas.io.formats.style.Styler at 0x79205a258c80>"
            ],
            "text/html": [
              "<style type=\"text/css\">\n",
              "#T_1f470 caption {\n",
              "  color: #333;\n",
              "  font-size: 16px;\n",
              "  font-weight: bold;\n",
              "}\n",
              "#T_1f470 th {\n",
              "  font-weight: bold;\n",
              "  background-color: #f2f2f2;\n",
              "}\n",
              "</style>\n",
              "<table id=\"T_1f470\" class=\"dataframe\">\n",
              "  <caption>🌍 AI Job Count by Salary Range in Top 5 Countries</caption>\n",
              "  <thead>\n",
              "    <tr>\n",
              "      <th class=\"blank level0\" >&nbsp;</th>\n",
              "      <th id=\"T_1f470_level0_col0\" class=\"col_heading level0 col0\" >Country</th>\n",
              "      <th id=\"T_1f470_level0_col1\" class=\"col_heading level0 col1\" >Salary Range</th>\n",
              "      <th id=\"T_1f470_level0_col2\" class=\"col_heading level0 col2\" >Job Count</th>\n",
              "    </tr>\n",
              "  </thead>\n",
              "  <tbody>\n",
              "    <tr>\n",
              "      <th id=\"T_1f470_level0_row0\" class=\"row_heading level0 row0\" >6</th>\n",
              "      <td id=\"T_1f470_row0_col0\" class=\"data row0 col0\" >Canada</td>\n",
              "      <td id=\"T_1f470_row0_col1\" class=\"data row0 col1\" >High</td>\n",
              "      <td id=\"T_1f470_row0_col2\" class=\"data row0 col2\" >153</td>\n",
              "    </tr>\n",
              "    <tr>\n",
              "      <th id=\"T_1f470_level0_row1\" class=\"row_heading level0 row1\" >7</th>\n",
              "      <td id=\"T_1f470_row1_col0\" class=\"data row1 col0\" >Canada</td>\n",
              "      <td id=\"T_1f470_row1_col1\" class=\"data row1 col1\" >Low</td>\n",
              "      <td id=\"T_1f470_row1_col2\" class=\"data row1 col2\" >211</td>\n",
              "    </tr>\n",
              "    <tr>\n",
              "      <th id=\"T_1f470_level0_row2\" class=\"row_heading level0 row2\" >8</th>\n",
              "      <td id=\"T_1f470_row2_col0\" class=\"data row2 col0\" >Canada</td>\n",
              "      <td id=\"T_1f470_row2_col1\" class=\"data row2 col1\" >Moderate</td>\n",
              "      <td id=\"T_1f470_row2_col2\" class=\"data row2 col2\" >417</td>\n",
              "    </tr>\n",
              "    <tr>\n",
              "      <th id=\"T_1f470_level0_row3\" class=\"row_heading level0 row3\" >40</th>\n",
              "      <td id=\"T_1f470_row3_col0\" class=\"data row3 col0\" >Singapore</td>\n",
              "      <td id=\"T_1f470_row3_col1\" class=\"data row3 col1\" >High</td>\n",
              "      <td id=\"T_1f470_row3_col2\" class=\"data row3 col2\" >195</td>\n",
              "    </tr>\n",
              "    <tr>\n",
              "      <th id=\"T_1f470_level0_row4\" class=\"row_heading level0 row4\" >41</th>\n",
              "      <td id=\"T_1f470_row4_col0\" class=\"data row4 col0\" >Singapore</td>\n",
              "      <td id=\"T_1f470_row4_col1\" class=\"data row4 col1\" >Low</td>\n",
              "      <td id=\"T_1f470_row4_col2\" class=\"data row4 col2\" >131</td>\n",
              "    </tr>\n",
              "    <tr>\n",
              "      <th id=\"T_1f470_level0_row5\" class=\"row_heading level0 row5\" >42</th>\n",
              "      <td id=\"T_1f470_row5_col0\" class=\"data row5 col0\" >Singapore</td>\n",
              "      <td id=\"T_1f470_row5_col1\" class=\"data row5 col1\" >Moderate</td>\n",
              "      <td id=\"T_1f470_row5_col2\" class=\"data row5 col2\" >436</td>\n",
              "    </tr>\n",
              "    <tr>\n",
              "      <th id=\"T_1f470_level0_row6\" class=\"row_heading level0 row6\" >49</th>\n",
              "      <td id=\"T_1f470_row6_col0\" class=\"data row6 col0\" >Switzerland</td>\n",
              "      <td id=\"T_1f470_row6_col1\" class=\"data row6 col1\" >High</td>\n",
              "      <td id=\"T_1f470_row6_col2\" class=\"data row6 col2\" >406</td>\n",
              "    </tr>\n",
              "    <tr>\n",
              "      <th id=\"T_1f470_level0_row7\" class=\"row_heading level0 row7\" >50</th>\n",
              "      <td id=\"T_1f470_row7_col0\" class=\"data row7 col0\" >Switzerland</td>\n",
              "      <td id=\"T_1f470_row7_col1\" class=\"data row7 col1\" >Low</td>\n",
              "      <td id=\"T_1f470_row7_col2\" class=\"data row7 col2\" >20</td>\n",
              "    </tr>\n",
              "    <tr>\n",
              "      <th id=\"T_1f470_level0_row8\" class=\"row_heading level0 row8\" >51</th>\n",
              "      <td id=\"T_1f470_row8_col0\" class=\"data row8 col0\" >Switzerland</td>\n",
              "      <td id=\"T_1f470_row8_col1\" class=\"data row8 col1\" >Moderate</td>\n",
              "      <td id=\"T_1f470_row8_col2\" class=\"data row8 col2\" >393</td>\n",
              "    </tr>\n",
              "    <tr>\n",
              "      <th id=\"T_1f470_level0_row9\" class=\"row_heading level0 row9\" >52</th>\n",
              "      <td id=\"T_1f470_row9_col0\" class=\"data row9 col0\" >United Kingdom</td>\n",
              "      <td id=\"T_1f470_row9_col1\" class=\"data row9 col1\" >High</td>\n",
              "      <td id=\"T_1f470_row9_col2\" class=\"data row9 col2\" >218</td>\n",
              "    </tr>\n",
              "    <tr>\n",
              "      <th id=\"T_1f470_level0_row10\" class=\"row_heading level0 row10\" >53</th>\n",
              "      <td id=\"T_1f470_row10_col0\" class=\"data row10 col0\" >United Kingdom</td>\n",
              "      <td id=\"T_1f470_row10_col1\" class=\"data row10 col1\" >Low</td>\n",
              "      <td id=\"T_1f470_row10_col2\" class=\"data row10 col2\" >128</td>\n",
              "    </tr>\n",
              "    <tr>\n",
              "      <th id=\"T_1f470_level0_row11\" class=\"row_heading level0 row11\" >54</th>\n",
              "      <td id=\"T_1f470_row11_col0\" class=\"data row11 col0\" >United Kingdom</td>\n",
              "      <td id=\"T_1f470_row11_col1\" class=\"data row11 col1\" >Moderate</td>\n",
              "      <td id=\"T_1f470_row11_col2\" class=\"data row11 col2\" >434</td>\n",
              "    </tr>\n",
              "    <tr>\n",
              "      <th id=\"T_1f470_level0_row12\" class=\"row_heading level0 row12\" >55</th>\n",
              "      <td id=\"T_1f470_row12_col0\" class=\"data row12 col0\" >United States</td>\n",
              "      <td id=\"T_1f470_row12_col1\" class=\"data row12 col1\" >High</td>\n",
              "      <td id=\"T_1f470_row12_col2\" class=\"data row12 col2\" >255</td>\n",
              "    </tr>\n",
              "    <tr>\n",
              "      <th id=\"T_1f470_level0_row13\" class=\"row_heading level0 row13\" >56</th>\n",
              "      <td id=\"T_1f470_row13_col0\" class=\"data row13 col0\" >United States</td>\n",
              "      <td id=\"T_1f470_row13_col1\" class=\"data row13 col1\" >Low</td>\n",
              "      <td id=\"T_1f470_row13_col2\" class=\"data row13 col2\" >82</td>\n",
              "    </tr>\n",
              "    <tr>\n",
              "      <th id=\"T_1f470_level0_row14\" class=\"row_heading level0 row14\" >57</th>\n",
              "      <td id=\"T_1f470_row14_col0\" class=\"data row14 col0\" >United States</td>\n",
              "      <td id=\"T_1f470_row14_col1\" class=\"data row14 col1\" >Moderate</td>\n",
              "      <td id=\"T_1f470_row14_col2\" class=\"data row14 col2\" >439</td>\n",
              "    </tr>\n",
              "  </tbody>\n",
              "</table>\n"
            ]
          },
          "metadata": {},
          "execution_count": 18
        }
      ]
    },
    {
      "cell_type": "code",
      "source": [
        "plt.figure(figsize=(10,4))\n",
        "sns.barplot(\n",
        "    data=filtered_salary_by_country,\n",
        "    x='company_location',\n",
        "    y='Job Count',\n",
        "    hue='salary_range',\n",
        "    palette='tab10',\n",
        "    edgecolor='black'\n",
        ")\n",
        "\n",
        "plt.title('AI Job Count by Salary Range in Top 5 Countries', fontsize=14)\n",
        "plt.xlabel('Country', fontsize=12)\n",
        "plt.ylabel('Number of Jobs', fontsize=12)\n",
        "plt.legend(title='Salary Range')\n",
        "plt.grid(axis='y', linestyle='--', alpha=0.6)\n",
        "plt.tight_layout()\n",
        "plt.savefig('outputs/ai_salary_range_by_country.png', dpi=1024)\n",
        "plt.show()\n"
      ],
      "metadata": {
        "colab": {
          "base_uri": "https://localhost:8080/",
          "height": 407
        },
        "id": "ilpSOhnCMBak",
        "outputId": "c0523bd4-48e8-4ebf-a974-20d1c123e4de"
      },
      "execution_count": 35,
      "outputs": [
        {
          "output_type": "display_data",
          "data": {
            "text/plain": [
              "<Figure size 1000x400 with 1 Axes>"
            ],
            "image/png": "[encoded data removed]"
          },
          "metadata": {}
        }
      ]
    },
    {
      "cell_type": "markdown",
      "source": [
        "###Conclusions\n",
        "\n",
        "By combining technical analysis with real-world salary expectations, we gain a deeper understanding of how compensation aligns with experience levels in the AI job market.\n",
        "\n",
        "This empowers both professionals and recruiters to navigate the job landscape more confidently — and sets the stage for visualizing these trends in the chart below.\n"
      ],
      "metadata": {
        "id": "hBFfWGgFX1ID"
      }
    },
    {
      "cell_type": "markdown",
      "source": [
        "###Next, Let’s Explore Geographic Trends\n",
        "\n",
        "Now that we’ve examined how salaries align with experience levels, it’s time to explore **how these trends vary across countries**.\n",
        "\n",
        "As someone navigating professional transitions across borders, I understand how important it is to know **where the opportunities truly are**.\n",
        "\n",
        "Which regions offer the most openings? Are high-paying roles concentrated in specific locations?\n",
        "\n",
        "Let’s dive into the geographic breakdown of AI job listings."
      ],
      "metadata": {
        "id": "aSp5ebBvZEqR"
      }
    },
    {
      "cell_type": "markdown",
      "source": [
        "###AI Job Opportunities by Country and Salary Range\n",
        "\n",
        "To complete this analysis, we’ll explore how AI job opportunities are distributed across the top 5 countries by employment volume, segmented by salary range (Low, Moderate, High).\n",
        "\n",
        "This perspective helps answer key questions:\n",
        "\n",
        "Which countries offer the highest-paying jobs?\n",
        "\n",
        "Are there regions dominated by lower or moderate salaries?\n",
        "\n",
        "How does compensation vary internationally?\n",
        "\n",
        "For professionals like myself — especially those of us reinventing our careers and looking toward a future shaped by AI — this geographic perspective is essential for making informed decisions and targeting the right opportunities.\n",
        "\n",
        "💡 By combining experience level, skills demand, and now salary by country, we gain a deeper, more complete understanding of the current AI job market landscape."
      ],
      "metadata": {
        "id": "8QvTr3YecZbT"
      }
    },
    {
      "cell_type": "code",
      "source": [
        "# Group by country and salary range\n",
        "country_salary = df.groupby(['company_location', 'salary_range']).size().reset_index(name='Job Count')\n",
        "\n",
        "# Get top 5 countries with most jobs\n",
        "top_5_countries = df['company_location'].value_counts().head(5).index\n",
        "\n",
        "# Filter only those countries\n",
        "filtered_country_salary = country_salary[country_salary['company_location'].isin(top_5_countries)]"
      ],
      "metadata": {
        "id": "PvMNe48QdyoZ"
      },
      "execution_count": 36,
      "outputs": []
    },
    {
      "cell_type": "code",
      "source": [
        "# Set seaborn style\n",
        "sns.set_style('whitegrid')\n",
        "plt.figure(figsize=(10,4))\n",
        "\n",
        "# Create barplot\n",
        "sns.barplot(\n",
        "    data=filtered_country_salary,\n",
        "    x='company_location',\n",
        "    y='Job Count',\n",
        "    hue='salary_range',\n",
        "    palette='viridis'\n",
        ")\n",
        "\n",
        "# Titles and labels\n",
        "plt.title('AI Job Count by Country and Salary Range', fontsize=14)\n",
        "plt.xlabel('Country', fontsize=12)\n",
        "plt.ylabel('Number of Job Postings', fontsize=12)\n",
        "plt.legend(title='Salary Range')\n",
        "\n",
        "# Save plot\n",
        "plt.tight_layout()\n",
        "plt.savefig(\"outputs/ai_jobs_by_country_and_salary.png\", dpi=1024)\n",
        "plt.show()"
      ],
      "metadata": {
        "colab": {
          "base_uri": "https://localhost:8080/",
          "height": 407
        },
        "id": "liZ1e7vOextZ",
        "outputId": "61d90040-1a60-4d93-b908-cf62fec14bcc"
      },
      "execution_count": 37,
      "outputs": [
        {
          "output_type": "display_data",
          "data": {
            "text/plain": [
              "<Figure size 1000x400 with 1 Axes>"
            ],
            "image/png": "[encoded data removed]"
          },
          "metadata": {}
        }
      ]
    },
    {
      "cell_type": "code",
      "source": [
        "#Show header with style\n",
        "display(HTML(\"<h4>Requirements:</h4>\"))\n",
        "print(Path(\"files/requirements.txt\").read_text())"
      ],
      "metadata": {
        "colab": {
          "base_uri": "https://localhost:8080/",
          "height": 161
        },
        "id": "Y7-JP0MxwMdi",
        "outputId": "a9568f27-6da5-4955-992a-1fb8b1b4f926"
      },
      "execution_count": 44,
      "outputs": [
        {
          "output_type": "display_data",
          "data": {
            "text/plain": [
              "<IPython.core.display.HTML object>"
            ],
            "text/html": [
              "<h4>Requirements:</h4>"
            ]
          },
          "metadata": {}
        },
        {
          "output_type": "stream",
          "name": "stdout",
          "text": [
            "pandas>=2.0\n",
            "numpy>=1.24\n",
            "matplotlib>=3.7\n",
            "seaborn>=0.12\n",
            "ipython>=8.0\n",
            "\n"
          ]
        }
      ]
    }
  ]
}